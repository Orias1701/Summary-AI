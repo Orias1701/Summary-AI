{
 "cells": [
  {
   "cell_type": "markdown",
   "id": "61fd84f4",
   "metadata": {},
   "source": [
    "CRAWL DATA"
   ]
  },
  {
   "cell_type": "code",
   "execution_count": null,
   "id": "1d84b9a8",
   "metadata": {},
   "outputs": [],
   "source": [
    "# === CRAWL ===\n",
    "\n",
    "from Libraries import Crawler\n",
    "\n",
    "my_config = {\n",
    "    # --- Path ---\n",
    "    \"DATA_DIR\": \"Database\",\n",
    "    \n",
    "    # --- Filter ---\n",
    "    \"MIN_YEAR\": 2020,\n",
    "    \"MIN_WORDS\": 200,\n",
    "    \"MAX_WORDS\": 1000,\n",
    "    \n",
    "    # --- Quy trình crawl ---\n",
    "    \"TARGET_ARTICLES_PER_SUBTYPE\": 100,\n",
    "    \"MAX_CONCURRENT_WORKERS\": 10,\n",
    "    \"VALIDATION_ARTICLES_COUNT\": 10,\n",
    "    \n",
    "    # --- Chuyên mục muốn crawl ---\n",
    "    \"TYPE_DICT\": {\n",
    "        'thoi-su': ['chinh-tri', 'dan-sinh', 'lao-dong-viec-lam', 'giao-thong', 'mekong', 'quy-hy-vong'],\n",
    "        'goc-nhin': ['binh-luan-nhieu', 'chinh-tri-chinh-sach', 'y-te-suc-khoe', 'kinh-doanh-quan-tri', 'giao-duc-tri-thuc', 'moi-truong', 'van-hoa-doi-song', 'covid-19', 'tac-gia'],\n",
    "        'the-gioi': ['tu-lieu', 'phan-tich', 'nguoi-viet-5-chau', 'cuoc-song-do-day', 'quan-su'],\n",
    "        'kinh-doanh': ['net-zero', 'quoc-te', 'doanh-nghiep', 'chung-khoan', 'ebank', 'vi-mo', 'tien-cua-toi', 'hang-hoa'],\n",
    "        'bat-dong-san': ['chinh-sach', 'thi-truong', 'khong-gian-song', 'tu-van'],\n",
    "        'khoa-hoc': ['khoa-hoc-trong-nuoc', 'pii-doi-moi-sang-tao', 'tin-tuc', 'phat-minh', 'ung-dung', 'the-gioi-tu-nhien', 'thuong-thuc'],\n",
    "        'giai-tri': ['gioi-sao', 'sach', 'video', 'phim', 'nhac', 'thoi-trang', 'lam-dep', 'san-khau-my-thuat'],\n",
    "        'the-thao': ['bong-da', 'du-lieu-bong-da', 'marathon', 'tennis', 'cac-mon-khac', 'hau-truong'],\n",
    "        'phap-luat': ['ho-so-pha-an', 'tu-van'],\n",
    "        'giao-duc': ['tin-tuc', 'tuyen-sinh', 'chan-dung', 'du-hoc', 'thao-luan', 'hoc-tieng-anh', 'giao-duc-40'],\n",
    "        'suc-khoe': ['tin-tuc', 'cac-benh', 'song-khoe', 'vaccine'],\n",
    "        'doi-song': ['nhip-song', 'to-am', 'bai-hoc-song', 'cooking', 'tieu-dung'],\n",
    "        'du-lich': ['diem-den', 'am-thuc', 'dau-chan', 'tu-van', 'cam-nang'],\n",
    "        'so-hoa': ['cong-nghe', 'san-pham', 'blockchain'],\n",
    "        'xe': ['thi-truong', 'dien-dan'],\n",
    "        'y-kien': ['thoi-su', 'doi-song']\n",
    "    }\n",
    "}\n",
    "\n",
    "# === RUN === \n",
    "crawler = Crawler(config=my_config)\n",
    "crawled_data = crawler.run()"
   ]
  },
  {
   "cell_type": "markdown",
   "id": "a27fd100",
   "metadata": {},
   "source": [
    "TRAIN and TEST"
   ]
  },
  {
   "cell_type": "code",
   "execution_count": null,
   "id": "fa840550",
   "metadata": {},
   "outputs": [],
   "source": [
    "import os\n",
    "import pandas as pd\n",
    "from transformers import pipeline\n",
    "from Libraries import Trainer\n",
    "\n",
    "training_config = {\n",
    "    # --- Đường dẫn và tên model ---\n",
    "    \"DATA_JSONL_FILE\": \"Database/JSON/vnexpress_articles.jsonl\",\n",
    "    \"MODEL_CHECKPOINT\": \"vinai/bartpho-syllable\",\n",
    "    \"OUTPUT_MODEL_DIR\": \"Models/bartpho-summarizer-v1\",\n",
    "    \n",
    "    # --- Hyperparameters ---\n",
    "    \"MAX_INPUT_LENGTH\": 1024,\n",
    "    \"MAX_TARGET_LENGTH\": 256,\n",
    "    \"BATCH_SIZE\": 4,\n",
    "    \"NUM_TRAIN_EPOCHS\": 3,\n",
    "    \"LEARNING_RATE\": 3e-5,\n",
    "    \"WEIGHT_DECAY\": 0.01,\n",
    "}"
   ]
  },
  {
   "cell_type": "code",
   "execution_count": null,
   "id": "ca5c4c96",
   "metadata": {},
   "outputs": [],
   "source": [
    "# === TRAIN ===\n",
    "summarizer_trainer = Trainer.SummarizationTrainer(config=training_config)\n",
    "summarizer_trainer.run()"
   ]
  },
  {
   "cell_type": "code",
   "execution_count": null,
   "id": "9ba83bb6",
   "metadata": {},
   "outputs": [],
   "source": [
    "# === TEST ===\n",
    "fine_tuned_model_path = training_config[\"OUTPUT_MODEL_DIR\"] \n",
    "summarizer_pipeline = pipeline(\"summarization\", model=fine_tuned_model_path)\n",
    "\n",
    "# Lấy một bài báo từ dữ liệu của bạn để tóm tắt thử\n",
    "df = pd.read_json(training_config[\"DATA_JSONL_FILE\"], lines=True)\n",
    "sample_text = df.iloc[50][\"content\"] # Số 50\n",
    "\n",
    "print(\"--- VĂN BẢN GỐC ---\")\n",
    "print(sample_text)\n",
    "print(\"\\n\" + \"=\"*50 + \"\\n\")\n",
    "\n",
    "print(\"--- BẢN TÓM TẮT TỪ MODEL ---\")\n",
    "summary = summarizer_pipeline(sample_text, max_length=256, min_length=50, do_sample=False)\n",
    "print(summary[0]['summary_text'])"
   ]
  }
 ],
 "metadata": {
  "kernelspec": {
   "display_name": "master",
   "language": "python",
   "name": "python3"
  },
  "language_info": {
   "codemirror_mode": {
    "name": "ipython",
    "version": 3
   },
   "file_extension": ".py",
   "mimetype": "text/x-python",
   "name": "python",
   "nbconvert_exporter": "python",
   "pygments_lexer": "ipython3",
   "version": "3.11.13"
  }
 },
 "nbformat": 4,
 "nbformat_minor": 5
}

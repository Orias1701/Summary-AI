{
 "cells": [
  {
   "cell_type": "code",
   "execution_count": null,
   "id": "9f30cda9",
   "metadata": {},
   "outputs": [],
   "source": [
    "from concurrent.futures import ThreadPoolExecutor, as_completed\n",
    "import pandas as pd\n",
    "import os\n",
    "import tqdm\n",
    "from Libraries import Crawler"
   ]
  },
  {
   "cell_type": "code",
   "execution_count": null,
   "id": "1d84b9a8",
   "metadata": {},
   "outputs": [],
   "source": [
    "# --- CONFIGURATION ---\n",
    "\n",
    "my_config = {\n",
    "    # --- Cấu hình đường dẫn và file ---\n",
    "    \"DATA_DIR\": \"Database\",\n",
    "    \n",
    "    # --- Cấu hình bộ lọc ---\n",
    "    \"MIN_YEAR\": 2020,\n",
    "    \"MIN_WORDS\": 200,\n",
    "    \"MAX_WORDS\": 1000,\n",
    "    \n",
    "    # --- Cấu hình quy trình crawl ---\n",
    "    \"TARGET_ARTICLES_PER_SUBTYPE\": 100,\n",
    "    \"MAX_CONCURRENT_WORKERS\": 10,\n",
    "    \"VALIDATION_ARTICLES_COUNT\": 10,\n",
    "    \n",
    "    # --- Cấu hình các chuyên mục cần crawl ---\n",
    "    \"TYPE_DICT\": {\n",
    "        'thoi-su': ['chinh-tri', 'dan-sinh', 'lao-dong-viec-lam', 'giao-thong', 'mekong', 'quy-hy-vong'],\n",
    "        'goc-nhin': ['binh-luan-nhieu', 'chinh-tri-chinh-sach', 'y-te-suc-khoe', 'kinh-doanh-quan-tri', 'giao-duc-tri-thuc', 'moi-truong', 'van-hoa-doi-song', 'covid-19', 'tac-gia'],\n",
    "        'the-gioi': ['tu-lieu', 'phan-tich', 'nguoi-viet-5-chau', 'cuoc-song-do-day', 'quan-su'],\n",
    "        'kinh-doanh': ['net-zero', 'quoc-te', 'doanh-nghiep', 'chung-khoan', 'ebank', 'vi-mo', 'tien-cua-toi', 'hang-hoa'],\n",
    "        'bat-dong-san': ['chinh-sach', 'thi-truong', 'khong-gian-song', 'tu-van'],\n",
    "        'khoa-hoc': ['khoa-hoc-trong-nuoc', 'pii-doi-moi-sang-tao', 'tin-tuc', 'phat-minh', 'ung-dung', 'the-gioi-tu-nhien', 'thuong-thuc'],\n",
    "        'giai-tri': ['gioi-sao', 'sach', 'video', 'phim', 'nhac', 'thoi-trang', 'lam-dep', 'san-khau-my-thuat'],\n",
    "        'the-thao': ['bong-da', 'du-lieu-bong-da', 'marathon', 'tennis', 'cac-mon-khac', 'hau-truong'],\n",
    "        'phap-luat': ['ho-so-pha-an', 'tu-van'],\n",
    "        'giao-duc': ['tin-tuc', 'tuyen-sinh', 'chan-dung', 'du-hoc', 'thao-luan', 'hoc-tieng-anh', 'giao-duc-40'],\n",
    "        'suc-khoe': ['tin-tuc', 'cac-benh', 'song-khoe', 'vaccine'],\n",
    "        'doi-song': ['nhip-song', 'to-am', 'bai-hoc-song', 'cooking', 'tieu-dung'],\n",
    "        'du-lich': ['diem-den', 'am-thuc', 'dau-chan', 'tu-van', 'cam-nang'],\n",
    "        'so-hoa': ['cong-nghe', 'san-pham', 'blockchain'],\n",
    "        'xe': ['thi-truong', 'dien-dan'],\n",
    "        'y-kien': ['thoi-su', 'doi-song']\n",
    "    }\n",
    "}"
   ]
  },
  {
   "cell_type": "code",
   "execution_count": null,
   "id": "4139a71a",
   "metadata": {},
   "outputs": [],
   "source": [
    "crawler = Crawler(config=my_config)\n",
    "crawled_data = crawler.run()"
   ]
  },
  {
   "cell_type": "code",
   "execution_count": null,
   "id": "c258e42b",
   "metadata": {},
   "outputs": [],
   "source": [
    "print(f\"\\nĐã crawl xong! Số bài báo mới: {len(crawled_data)}\")\n",
    "\n",
    "if crawled_data:\n",
    "    df = pd.DataFrame(crawled_data)\n",
    "    display(df.head())"
   ]
  }
 ],
 "metadata": {
  "kernelspec": {
   "display_name": "crawler",
   "language": "python",
   "name": "python3"
  },
  "language_info": {
   "codemirror_mode": {
    "name": "ipython",
    "version": 3
   },
   "file_extension": ".py",
   "mimetype": "text/x-python",
   "name": "python",
   "nbconvert_exporter": "python",
   "pygments_lexer": "ipython3",
   "version": "3.11.13"
  }
 },
 "nbformat": 4,
 "nbformat_minor": 5
}

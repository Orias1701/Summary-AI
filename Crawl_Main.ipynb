{
 "cells": [
  {
   "cell_type": "code",
   "execution_count": null,
   "id": "9f30cda9",
   "metadata": {},
   "outputs": [],
   "source": [
    "from concurrent.futures import ThreadPoolExecutor, as_completed\n",
    "import json\n",
    "import os\n",
    "import tqdm\n",
    "from Libraries import Crawl"
   ]
  },
  {
   "cell_type": "code",
   "execution_count": null,
   "id": "78d9c5f0",
   "metadata": {},
   "outputs": [],
   "source": [
    "# --- CONFIGURATION ---\n",
    "BASE_URL = \"https://vnexpress.net\"\n",
    "DATA_DIR = \"Database\"\n",
    "URLS_FILE = os.path.join(DATA_DIR, \"vnexpress_articles.jsonl\")\n",
    "MIN_YEAR = 2020\n",
    "MAX_WORDS = 1000\n",
    "TARGET_ARTICLES_PER_SUBTYPE = 33\n",
    "MAX_CONCURRENT_WORKERS = 10\n",
    "REQUEST_TIMEOUT = 30\n",
    "\n",
    "HEADERS = {\n",
    "    'User-Agent': 'Mozilla/5.0 (Windows NT 10.0; Win64; x64) AppleWebKit/537.36 (KHTML, like Gecko) Chrome/91.0.4472.124 Safari/537.36'\n",
    "}\n",
    "\n",
    "TYPE_DICT = {\n",
    "    'thoi-su': ['chinh-tri', 'dan-sinh', 'giao-thong'],\n",
    "    'the-gioi': ['tu-lieu', 'phan-tich', 'quan-su'],\n",
    "    'kinh-doanh': ['quoc-te', 'doanh-nghiep', 'chung-khoan'],\n",
    "    'khoa-hoc': ['tin-tuc', 'phat-minh', 'the-gioi-tu-nhien'],\n",
    "    'giai-tri': ['gioi-sao', 'sach', 'phim', 'nhac'],\n",
    "    'the-thao': ['bong-da', 'tennis', 'cac-mon-khac'],\n",
    "    'giao-duc': ['tin-tuc', 'tuyen-sinh', 'du-hoc'],\n",
    "    'suc-khoe': ['tin-tuc', 'cac-benh', 'song-khoe'],\n",
    "}\n",
    "\n",
    "VIETNAMESE_DAYS = {\n",
    "    \"Chủ nhật\": \"Sunday\", \"Thứ hai\": \"Monday\", \"Thứ ba\": \"Tuesday\",\n",
    "    \"Thứ tư\": \"Wednesday\", \"Thứ năm\": \"Thursday\", \"Thứ sáu\": \"Friday\",\n",
    "    \"Thứ bảy\": \"Saturday\"\n",
    "}"
   ]
  },
  {
   "cell_type": "code",
   "execution_count": null,
   "id": "4139a71a",
   "metadata": {},
   "outputs": [],
   "source": [
    "\"\"\"Hàm chính điều phối việc crawl dữ liệu.\"\"\"\n",
    "os.makedirs(DATA_DIR, exist_ok=True)\n",
    "\n",
    "with Crawl.create_session() as session:\n",
    "    print(\"Bước 1: Thu thập tất cả URLs...\")\n",
    "    all_article_urls = []\n",
    "    for category, sub_categories in tqdm.tqdm(TYPE_DICT.items(), desc=\"Categories\"):\n",
    "        for sub_cat in sub_categories:\n",
    "            all_article_urls.extend(Crawl.get_article_urls(session, category, sub_cat))\n",
    "    \n",
    "    print(f\"Tổng cộng thu được {len(all_article_urls)} URLs.\")\n",
    "    print(\"\\nBước 2: Bắt đầu crawl chi tiết bài báo...\")\n",
    "    all_articles = []\n",
    "    with ThreadPoolExecutor(max_workers=MAX_CONCURRENT_WORKERS) as executor:\n",
    "        future_to_url = {executor.submit(Crawl.scrape_article_details, session, url): url for url in all_article_urls}\n",
    "        progress_bar = tqdm.tqdm(as_completed(future_to_url), total=len(all_article_urls), desc=\"Crawling Articles\")\n",
    "        for future in progress_bar:\n",
    "            if result := future.result():\n",
    "                all_articles.append(result)\n",
    "\n",
    "print(f\"\\nBước 3: Lưu {len(all_articles)} bài báo vào file...\")\n",
    "with open(URLS_FILE, \"w\", encoding=\"utf-8\") as f:\n",
    "    for article in all_articles:\n",
    "        f.write(json.dumps(article, ensure_ascii=False) + \"\\n\")\n",
    "        \n",
    "print(f\"Hoàn thành! Dữ liệu đã lưu tại {URLS_FILE}\")"
   ]
  }
 ],
 "metadata": {
  "kernelspec": {
   "display_name": "crawler",
   "language": "python",
   "name": "python3"
  },
  "language_info": {
   "name": "python",
   "version": "3.11.13"
  }
 },
 "nbformat": 4,
 "nbformat_minor": 5
}
